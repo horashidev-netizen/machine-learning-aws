{
 "cells": [
  {
   "cell_type": "markdown",
   "id": "6ff24f0c",
   "metadata": {},
   "source": [
    "## MACHINE LEARNING ON AWS\n",
    "\n",
    "### ML Algorithms and Models\n",
    "> Machine learning models are <font color=\"#0099ff\">**trained on historical data**</font> to find hidden patterns and relationships between customer attributes, past purchases, and product recommendations. This allows for individualized product suggestions.\n",
    "\n",
    "##### Algorithms:\n",
    "<table style=\"border: none;\">\n",
    "  <tr>\n",
    "    <td valign=\"top\">\n",
    "    <ul>\n",
    "        <li>Binary classification</li>\n",
    "        <li>Regression problems</li>\n",
    "        <li>Reinforcement learning</li>\n",
    "        <li>Anomaly detection</li>\n",
    "    </ul>\n",
    "    </td>\n",
    "    <td align=\"right\" valign=\"top\">\n",
    "      <img src=\"../images/image.png\" alt=\"Mô tả hình ảnh\" width=\"200\">\n",
    "    </td>\n",
    "  </tr>\n",
    "</table>\n",
    "\n"
   ]
  },
  {
   "cell_type": "markdown",
   "id": "8c8b8448",
   "metadata": {},
   "source": [
    "### Quiz: Choosing the Right Machine Learning Algorithm\n",
    "\n",
    "You are part of a machine learning (ML) team that is tasked with training a robot to clean supermarket floors after hours. The robot must be able to navigate the aisles without bumping into the shelves because this might damage products.\n",
    "\n",
    "**Which type of machine learning algorithm best suits this task?**\n",
    "\n",
    "- Binary classification\n",
    "- Regression problems\n",
    "- Reinforcement learning\n",
    "- Anomaly detection\n",
    "\n",
    "<details>\n",
    "    <summary><strong>Show Answer</strong></summary>\n",
    "\n",
    "    The best-suited algorithm is: **Reinforcement learning**\n",
    "</details>"
   ]
  },
  {
   "cell_type": "code",
   "execution_count": null,
   "id": "c21d4c85",
   "metadata": {},
   "outputs": [],
   "source": []
  }
 ],
 "metadata": {
  "kernelspec": {
   "display_name": ".venv",
   "language": "python",
   "name": "python3"
  },
  "language_info": {
   "codemirror_mode": {
    "name": "ipython",
    "version": 3
   },
   "file_extension": ".py",
   "mimetype": "text/x-python",
   "name": "python",
   "nbconvert_exporter": "python",
   "pygments_lexer": "ipython3",
   "version": "3.11.9"
  }
 },
 "nbformat": 4,
 "nbformat_minor": 5
}
