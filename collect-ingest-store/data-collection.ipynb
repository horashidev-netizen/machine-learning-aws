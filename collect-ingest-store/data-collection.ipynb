{
 "cells": [
  {
   "cell_type": "markdown",
   "id": "e00a6ada",
   "metadata": {},
   "source": [
    "Nội dung này nhấn mạnh tầm quan trọng của việc **thu thập dữ liệu chất lượng cao** trong giai đoạn đầu của quy trình học máy. Dữ liệu được xem là \"xương sống\" của mô hình, quyết định khả năng dự đoán và đưa ra quyết định chính xác. Dữ liệu tốt cần phải phù hợp, đầy đủ, sạch, không thiên vị và được thu thập một cách hợp pháp.\n",
    "\n",
    "Quá trình này bao gồm việc tập hợp dữ liệu từ nhiều nguồn khác nhau vào một nơi lưu trữ tập trung. Ba hệ thống lưu trữ phổ biến được giới thiệu là:\n",
    "\n",
    "*   **Hồ dữ liệu (Data Lake):** Lưu trữ mọi loại dữ liệu (có cấu trúc, phi cấu trúc).\n",
    "*   **Kho dữ liệu (Data Warehouse):** Lưu trữ dữ liệu có cấu trúc, tối ưu cho việc phân tích.\n",
    "*   **Cơ sở dữ liệu (Database):** Quy mô nhỏ hơn, tối ưu cho các giao dịch hàng ngày.\n",
    "\n",
    "Sau khi tập trung hóa, dữ liệu sẽ sẵn sàng cho các bước làm sạch, chuẩn bị và bảo mật trước khi đưa vào huấn luyện.\n",
    "\n",
    "### Chi tiết\n",
    "#### Tầm quan trọng của việc Thu thập Dữ liệu Chất lượng cao\n",
    "Ở giai đoạn này, bạn cần tập trung vào việc thu thập dữ liệu chất lượng cao, vừa mang tính đại diện, vừa có giá trị cho việc huấn luyện các mô hình học máy. Dữ liệu được thu thập cẩn thận này sẽ là xương sống cho các mô hình của bạn, giúp chúng có khả năng đưa ra dự đoán, phân loại dữ liệu hoặc ra quyết định dựa trên thông tin đã được cung cấp.\n",
    "\n",
    "Khi xây dựng một mô hình học máy, bạn cần dữ liệu phù hợp với vấn đề cụ thể mà bạn đang cố gắng giải quyết. Việc có đủ dữ liệu—cả về số lượng và sự đa dạng—sẽ cho phép mô hình của bạn huấn luyện hiệu quả. Tuy nhiên, nhiều dữ liệu hơn không hẳn đã tốt hơn nếu chúng có chất lượng thấp. Bạn cần dữ liệu chính xác, sạch, không có lỗi hay thiên vị. Việc thu thập dữ liệu một cách đạo đức, hợp pháp, và có thể cần ẩn danh hóa thông tin cũng rất quan trọng.\n",
    "\n",
    "Điểm mấu chốt là bạn cần dữ liệu đúng để tạo ra một mô hình chính xác có thể xử lý các kịch bản thực tế đa dạng.\n",
    "\n",
    "#### Quá trình Tập trung hóa Dữ liệu\n",
    "Việc thu thập và chuẩn bị dữ liệu cho các mô hình học máy bao gồm việc lấy thông tin từ nhiều nơi. Bước đầu tiên là tập hợp tất cả dữ liệu phân tán đó vào một nơi lưu trữ tập trung. Sau đó, bạn có thể làm sạch và chuẩn bị nó cho các thuật toán học máy.\n",
    "\n",
    "Các công ty thường lưu trữ dữ liệu trong các hệ thống sau:\n",
    "\n",
    "*   **Hồ dữ liệu (Data Lake):**\n",
    "    Là nơi lưu trữ tập trung một lượng lớn dữ liệu có cấu trúc, phi cấu trúc, và bán cấu trúc từ nhiều nguồn khác nhau (cơ sở dữ liệu, cảm biến, dữ liệu luồng trực tiếp, giao dịch). Dữ liệu này sau đó có thể được tải vào các thuật toán học máy hoặc các dạng khác để phân tích.\n",
    "\n",
    "*   **Kho dữ liệu (Data Warehouse):**\n",
    "    Lưu trữ dữ liệu có cấu trúc trong các cơ sở dữ liệu quan hệ. Theo mô hình xử lý phân tích trực tuyến (OLAP), kho dữ liệu định dạng thông tin thành các bảng được xác định rõ ràng, cho phép tổng hợp và truy xuất nhanh chóng cho nhu cầu kinh doanh thông minh (BI). Bạn có thể sử dụng các ngôn ngữ dựa trên SQL để truy vấn và phân tích hiệu quả.\n",
    "\n",
    "*   **Cơ sở dữ liệu (Database):**\n",
    "    Phục vụ mục đích lưu trữ tương tự như kho dữ liệu, nhưng thường có quy mô nhỏ hơn và được tối ưu hóa cho xử lý giao dịch trực tuyến (OLTP) thay vì phân tích. Cơ sở dữ liệu lưu trữ dữ liệu có thể được truy cập nhanh chóng, như hồ sơ khách hàng, hàng tồn kho hoặc giao dịch tài chính.\n",
    "\n",
    "#### Tóm tắt và Các bước Tiếp theo\n",
    "Đến đây, bạn đã biết rằng khi thu thập dữ liệu, điều quan trọng là phải xác định vị trí của tất cả các bộ dữ liệu và quyết định một nơi lưu trữ tập trung. Sau đó, bạn cần chọn phương pháp tốt nhất để thu thập và nhập dữ liệu vào vị trí đó. Khi dữ liệu của bạn đã được tập hợp, bạn đã sẵn sàng để làm sạch, chuẩn bị và bảo mật dữ liệu cho việc phân tích.\n",
    "\n",
    "Trong phần còn lại của bài học này, bạn sẽ tìm hiểu về các đặc tính của dữ liệu—như tính chính xác, đầy đủ và phù hợp—và cách những phẩm chất đó ảnh hưởng đến khả năng học hỏi của thuật toán từ dữ liệu."
   ]
  }
 ],
 "metadata": {
  "language_info": {
   "name": "python"
  }
 },
 "nbformat": 4,
 "nbformat_minor": 5
}
