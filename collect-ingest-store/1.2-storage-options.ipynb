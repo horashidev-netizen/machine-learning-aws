{
 "cells": [
  {
   "cell_type": "markdown",
   "id": "8099a724",
   "metadata": {},
   "source": [
    "## Amazon S3\n",
    "Amazon S3 is a flexible, scalable, object storage service used for a wide range of applications. These applications include data lakes, websites, cloud-centered apps, backups, archives, analytics, and ML.\n",
    "![key benefit s3](../images/S3_keybenefits.png)"
   ]
  },
  {
   "cell_type": "markdown",
   "id": "38d057d6",
   "metadata": {},
   "source": []
  }
 ],
 "metadata": {
  "language_info": {
   "name": "python"
  }
 },
 "nbformat": 4,
 "nbformat_minor": 5
}
