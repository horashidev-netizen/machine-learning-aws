{
 "cells": [
  {
   "cell_type": "markdown",
   "id": "3e32a2b8",
   "metadata": {},
   "source": [
    "## Eight key dimensions of responsible AI/ML\n",
    "\n",
    "> The rapid advancement of generative AI has brought promising new innovations, but it also raises new challenges. In the field of machine learning, it is essential to promote the safe and responsible development of AI as a force for good. This involves taking a people-centric approach that prioritizes education, scientific research, and integrating responsible AI practices across the entire AI lifecycle.\n",
    "\n",
    "> Currently, responsible AI encompasses the following eight key dimensions. Consider these dimensions when developing your ML solutions. To learn more, choose each of the numbered markers.\n",
    "\n",
    "\n",
    "![ml-responsibly](../images/ml-responsibly.png)"
   ]
  }
 ],
 "metadata": {
  "language_info": {
   "name": "python"
  }
 },
 "nbformat": 4,
 "nbformat_minor": 5
}
