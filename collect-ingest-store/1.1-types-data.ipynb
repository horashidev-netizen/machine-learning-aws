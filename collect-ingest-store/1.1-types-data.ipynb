{
 "cells": [
  {
   "cell_type": "markdown",
   "id": "ed8c0f71",
   "metadata": {},
   "source": [
    "# Data types\n",
    "## Different ML models are designed and developed for specific data types.\n",
    "\n",
    "> To choose an effective ML algorithm, you should understand the types of data and how to best use them. Data types are typically categorized as text, tabular, time series, and image."
   ]
  },
  {
   "cell_type": "markdown",
   "id": "d8163065",
   "metadata": {},
   "source": [
    "![types of data](../images/data_types.png)"
   ]
  },
  {
   "cell_type": "markdown",
   "id": "2a7d730e",
   "metadata": {},
   "source": [
    "#### Text\n",
    "- Text data, such as documents and website content, is **converted to numbers for use in ML models**, especially for natural language processing (NLP) tasks like sentiment analysis. Models use this numerical representation of text to analyze the data.\n",
    "\n",
    "#### Tabular\n",
    "- Tabular data refers to information that is **organized into a table structure with rows and columns**, such as the data in spreadsheets and databases. Tabular data is ideal for linear regression models.\n",
    "\n",
    "#### Time series\n",
    "- Time-series data is **collected over time** with an inherent ordering that is associated with data points. It can be associated with sensor, weather, or financial data, such as stock prices. It is frequently used to detect trends. For instance, you might analyze and forecast changes using ML models to make predictions based on historical data patterns.\n",
    "\n",
    "#### Image\n",
    "- Image data refers to the actual pixel values that make up a digital image. It is the raw data that **represents the colors and intensities** of each pixel in the image. Image data, like data from photos, videos, and medical scans, is frequently used in machine learning for object recognition, autonomous driving, and image classification.\n"
   ]
  },
  {
   "cell_type": "markdown",
   "id": "2303dee1",
   "metadata": {},
   "source": [
    "## Unstructured data\n",
    ">lacks a predefined structure, making organization and analysis difficult. Though abundant, unstructured data, such as text, images, and video, requires substantial preprocessing before machine learning can extract insights. With proper feature engineering, unstructured data offers the richest insights despite its chaotic nature. \n",
    "Examples of unstructured data types include:\n",
    "1. Nội dung email, bài đăng mạng xã hội.\n",
    "2. Hình ảnh, video, và file âm thanh.\n",
    "3. Các file văn bản như Word, PDF.\n",
    "\n",
    "#### Structured data\n",
    ">Structured data has a well-defined schema that algorithms can easily interpret. Parquet and Apache ORC are examples of highly organized, structured data types.\n",
    "Examples of structured data types include:\n",
    "1. Bảng tính Excel (danh sách khách hàng, doanh thu).\n",
    "2. Bảng trong cơ sở dữ liệu (tài khoản người dùng, kho hàng).\n",
    "3. Danh bạ điện thoại.\n",
    "\n",
    "#### Semi-structured data\n",
    ">Semi-structured data has organizational properties, such as tags and markup, that allows some machine interpretation. However, it still requires preprocessing to extract meaningful features. Though less efficient for searching than structured data, semi-structured data provides flexibility in capturing diverse information. \n",
    "- Examples of semi-structured data types include CSV, XML, and JSON files."
   ]
  }
 ],
 "metadata": {
  "language_info": {
   "name": "python"
  }
 },
 "nbformat": 4,
 "nbformat_minor": 5
}
